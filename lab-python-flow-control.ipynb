{
 "cells": [
  {
   "cell_type": "markdown",
   "id": "d3bfc191-8885-42ee-b0a0-bbab867c6f9f",
   "metadata": {
    "tags": []
   },
   "source": [
    "# Lab | Flow Control"
   ]
  },
  {
   "cell_type": "markdown",
   "id": "3851fcd1-cf98-4653-9c89-e003b7ec9400",
   "metadata": {},
   "source": [
    "## Exercise: Managing Customer Orders Optimized\n",
    "\n",
    "In the last lab, you were starting an online store that sells various products. To ensure smooth operations, you developed a program that manages customer orders and inventory.\n",
    "\n",
    "You did so without using flow control. Let's go a step further and improve this code.\n",
    "\n",
    "Follow the steps below to complete the exercise:\n",
    "\n",
    "1. Look at your code from the lab data structures, and improve repeated code with loops.\n",
    "\n",
    "2. Instead of asking the user to input the name of three products that a customer wants to order, do the following:\n",
    "    \n",
    "    a. Prompt the user to enter the name of a product that a customer wants to order.\n",
    "    \n",
    "    b. Add the product name to the \"customer_orders\" set.\n",
    "    \n",
    "    c. Ask the user if they want to add another product (yes/no).\n",
    "    \n",
    "    d. Continue the loop until the user does not want to add another product.\n",
    "\n",
    "3. Instead of updating the inventory by subtracting 1 from the quantity of each product, only do it for  the products that were ordered (those in \"customer_orders\")."
   ]
  },
  {
   "cell_type": "code",
   "execution_count": 1,
   "id": "66e4c98e",
   "metadata": {},
   "outputs": [],
   "source": [
    "# List of products\n",
    "\n",
    "products = [\"t-shirt\", \"mug\", \"hat\", \"book\", \"keychain\"]"
   ]
  },
  {
   "cell_type": "code",
   "execution_count": 2,
   "id": "33a3b0f2",
   "metadata": {},
   "outputs": [],
   "source": [
    "# Empty dictionary\n",
    "\n",
    "inventory = {}"
   ]
  },
  {
   "cell_type": "code",
   "execution_count": 4,
   "id": "c9f726de",
   "metadata": {},
   "outputs": [],
   "source": [
    "# Inventory quantity of each product\n",
    "\n",
    "for product in products:\n",
    "    quantity = int(input(f\"Enter the quantity of {product}: \"))\n",
    "    inventory[product] = quantity"
   ]
  },
  {
   "cell_type": "code",
   "execution_count": 5,
   "id": "0c5c59a4",
   "metadata": {},
   "outputs": [],
   "source": [
    "# Create an empty set to store customer orders\n",
    "\n",
    "customer_orders = set()"
   ]
  },
  {
   "cell_type": "code",
   "execution_count": 6,
   "id": "12934ebe",
   "metadata": {},
   "outputs": [],
   "source": [
    "# Prompt the user to enter the name\n",
    "product_name = input(\"Please enter the name of the product you want to order: \")"
   ]
  },
  {
   "cell_type": "code",
   "execution_count": 7,
   "id": "1089f425",
   "metadata": {},
   "outputs": [],
   "source": [
    "# Add the initial product to the customer orders\n",
    "customer_orders.add(product_name)"
   ]
  },
  {
   "cell_type": "code",
   "execution_count": 8,
   "id": "9148c7aa",
   "metadata": {},
   "outputs": [],
   "source": [
    "# Asking the user if they want to add another product (yes or no)\n",
    "\n",
    "choice = input(\"Do you want to add another product? (yes/no): \")\n",
    "\n",
    "# Loop to add more products if desired\n",
    "\n",
    "while choice.lower() == \"yes\":\n",
    "    another_product = input(\"Please enter the name of the next product: \")\n",
    "    customer_orders.add(another_product)\n",
    "    choice = input(\"Do you want to add another product? (yes/no): \")"
   ]
  },
  {
   "cell_type": "code",
   "execution_count": 9,
   "id": "6492cf9e",
   "metadata": {},
   "outputs": [
    {
     "name": "stdout",
     "output_type": "stream",
     "text": [
      "Updated inventory: {'t-shirt': 20, 'mug': 20, 'hat': 19, 'book': 20, 'keychain': 20}\n",
      "Thank you for your purchase! Come back soon!\n"
     ]
    }
   ],
   "source": [
    "# Updating inventory for ordered products\n",
    "\n",
    "for ordered_product in customer_orders:\n",
    "    if ordered_product in inventory:\n",
    "        inventory[ordered_product] -= 1\n",
    "        \n",
    "# Printing the updated inventory and thanking the customer for the purchase\n",
    "\n",
    "        print(\"Updated inventory:\", inventory)\n",
    "\n",
    "print(\"Thank you for your purchase! Come back soon!\")"
   ]
  },
  {
   "cell_type": "code",
   "execution_count": null,
   "id": "5e03deed",
   "metadata": {},
   "outputs": [],
   "source": []
  },
  {
   "cell_type": "code",
   "execution_count": null,
   "id": "aa3b2873",
   "metadata": {},
   "outputs": [],
   "source": []
  }
 ],
 "metadata": {
  "kernelspec": {
   "display_name": "Python 3 (ipykernel)",
   "language": "python",
   "name": "python3"
  },
  "language_info": {
   "codemirror_mode": {
    "name": "ipython",
    "version": 3
   },
   "file_extension": ".py",
   "mimetype": "text/x-python",
   "name": "python",
   "nbconvert_exporter": "python",
   "pygments_lexer": "ipython3",
   "version": "3.8.2"
  }
 },
 "nbformat": 4,
 "nbformat_minor": 5
}
